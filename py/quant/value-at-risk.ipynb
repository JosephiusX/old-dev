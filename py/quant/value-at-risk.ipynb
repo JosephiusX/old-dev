{
 "cells": [
  {
   "cell_type": "code",
   "execution_count": 25,
   "metadata": {},
   "outputs": [],
   "source": [
    "import matplotlib.pyplot as plt\n",
    "import numpy as np\n",
    "import yfinance as yf\n",
    "from scipy.stats import norm\n",
    "import pandas as pd\n",
    "import datetime\n",
    "\n",
    "def download_data(stock, start_date, end_date):\n",
    "    data = {}\n",
    "    ticker = yf.download(stock,start_date, end_date)\n",
    "    data[stock] = ticker['Adj Close']\n",
    "    return pd.DataFrame(data)\n",
    "\n",
    "# Calculate value at risk tomorrow (n=1)\n",
    "def calculate_var(position, c, mu, sigma):\n",
    "    var = position * (mu - sigma * norm.ppf(1-c))\n",
    "    return var\n",
    "\n",
    "if __name__=='__main': # python main fn ?\n",
    "\n",
    "    start = datetime.datetime(2021,1,1)\n",
    "    end = datetime.datetime(2022,1,1)\n",
    "\n",
    "    stock_data = download_data('C', start, end)\n",
    "\n",
    "    stock_data['returns'] = np.log(stock_data['C']/stock_data['C'].shift(1))\n",
    "    stock_data = stock_data[1:]\n",
    "    print(stock_data)\n",
    "    \n",
    "    \n",
    "    # investment ammount\n",
    "    S = 1e6\n",
    "    # confidence \n",
    "    c = 0.95\n",
    "    \n",
    "    # we assume that daily returns are normally distributed\n",
    "    mu = np.mean(stock_data['returns'])\n",
    "    sigma = np.std(stock_data['returns'])\n",
    "\n",
    "    print('Value at risk is : $%0.2f' % calculate_var(S,c,mu,sigma))"
   ]
  },
  {
   "cell_type": "code",
   "execution_count": null,
   "metadata": {},
   "outputs": [],
   "source": []
  }
 ],
 "metadata": {
  "interpreter": {
   "hash": "ebebd341514160dc8971beef09e22bfe6421b8e54133e502ae5b3ae707b26fe9"
  },
  "kernelspec": {
   "display_name": "Python 3.10.0",
   "language": "python",
   "name": "python3"
  },
  "language_info": {
   "codemirror_mode": {
    "name": "ipython",
    "version": 3
   },
   "file_extension": ".py",
   "mimetype": "text/x-python",
   "name": "python",
   "nbconvert_exporter": "python",
   "pygments_lexer": "ipython3",
   "version": "3.10.0"
  },
  "orig_nbformat": 4
 },
 "nbformat": 4,
 "nbformat_minor": 2
}
