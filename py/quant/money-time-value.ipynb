{
 "cells": [
  {
   "cell_type": "code",
   "execution_count": 8,
   "metadata": {},
   "outputs": [],
   "source": [
    "from math import exp"
   ]
  },
  {
   "cell_type": "code",
   "execution_count": 14,
   "metadata": {},
   "outputs": [
    {
     "name": "stdout",
     "output_type": "stream",
     "text": [
      "Future values (discrete model) of x: 127.62815625000003\n",
      "Present values (discrete model) of x: 78.35261664684589\n",
      "Future values (continuous model) of x: 128.40254166877415\n",
      "Present values (continuous model) of x: 77.8800783071405\n"
     ]
    }
   ],
   "source": [
    "def future_discrete_value(x, r, n):\n",
    "    return x*(1+r)**n\n",
    "\n",
    "def present_discrete_value(x, r, n):\n",
    "    return x*(1+r)**-n\n",
    "\n",
    "def future_continuous_value(x, r, t):\n",
    "    return x*exp(r*t)\n",
    "\n",
    "def present_continuous_value(x, r, t):\n",
    "    return x*exp(-r*t)\n",
    "\n",
    "if __name__ == '__main__':\n",
    "    \n",
    "    # value of investment in dollars\n",
    "    x=100\n",
    "    # define intrest rate (r)\n",
    "    r = 0.05\n",
    "    # duration (years)\n",
    "    n = 5\n",
    "\n",
    "    print(\"Future values (discrete model) of x: %s\" % future_discrete_value(x,r,n))\n",
    "    print(\"Present values (discrete model) of x: %s\" % present_discrete_value(x,r,n))\n",
    "    print(\"Future values (continuous model) of x: %s\" % future_continuous_value(x,r,n))\n",
    "    print(\"Present values (continuous model) of x: %s\" % present_continuous_value(x,r,n))"
   ]
  },
  {
   "cell_type": "code",
   "execution_count": null,
   "metadata": {},
   "outputs": [],
   "source": []
  },
  {
   "cell_type": "code",
   "execution_count": null,
   "metadata": {},
   "outputs": [],
   "source": []
  }
 ],
 "metadata": {
  "interpreter": {
   "hash": "ebebd341514160dc8971beef09e22bfe6421b8e54133e502ae5b3ae707b26fe9"
  },
  "kernelspec": {
   "display_name": "Python 3.10.0",
   "language": "python",
   "name": "python3"
  },
  "language_info": {
   "codemirror_mode": {
    "name": "ipython",
    "version": 3
   },
   "file_extension": ".py",
   "mimetype": "text/x-python",
   "name": "python",
   "nbconvert_exporter": "python",
   "pygments_lexer": "ipython3",
   "version": "3.10.0"
  },
  "orig_nbformat": 4
 },
 "nbformat": 4,
 "nbformat_minor": 2
}
